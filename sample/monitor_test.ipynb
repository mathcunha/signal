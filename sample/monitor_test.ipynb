{
 "cells": [
  {
   "cell_type": "code",
   "execution_count": null,
   "id": "d4ed73fc-4587-4a8c-bc27-2d3546052ab8",
   "metadata": {},
   "outputs": [],
   "source": [
    "import sys\n",
    "import os"
   ]
  },
  {
   "cell_type": "code",
   "execution_count": null,
   "id": "cf4f46fb-9cde-4c9f-8907-b515c0029f82",
   "metadata": {},
   "outputs": [],
   "source": [
    "script_dir = os.getcwd()"
   ]
  },
  {
   "cell_type": "code",
   "execution_count": null,
   "id": "349851a6-d378-4c98-8a32-e90c1e4206f1",
   "metadata": {},
   "outputs": [],
   "source": [
    "script_dir"
   ]
  },
  {
   "cell_type": "code",
   "execution_count": null,
   "id": "a4c745f9-af4c-4255-938d-78ad921c646f",
   "metadata": {},
   "outputs": [],
   "source": [
    "sys.path.append(os.path.join(script_dir, '../'))"
   ]
  },
  {
   "cell_type": "markdown",
   "id": "b3cba95d-8db5-4519-a388-f5c543cba05e",
   "metadata": {},
   "source": [
    "### Set GOOGLE_APPLICATION_CREDENTIALS"
   ]
  },
  {
   "cell_type": "code",
   "execution_count": null,
   "id": "134ea2b6-0b59-4875-bf6f-beea624f585f",
   "metadata": {},
   "outputs": [],
   "source": [
    "os.environ['GOOGLE_APPLICATION_CREDENTIALS'] = '/home/jovyan/.config/gcloud/application_default_credentials.json'"
   ]
  },
  {
   "cell_type": "code",
   "execution_count": null,
   "id": "bc1da3d7-6b3e-4bfc-97b2-40648826da9e",
   "metadata": {},
   "outputs": [],
   "source": [
    "from monitor import Monitor"
   ]
  },
  {
   "cell_type": "markdown",
   "id": "128c3c7c-96c1-4172-bebf-210a1707ba90",
   "metadata": {},
   "source": [
    "### Config dic example"
   ]
  },
  {
   "cell_type": "code",
   "execution_count": null,
   "id": "c57d83b8-c539-4c4a-95af-2a41142fe4ec",
   "metadata": {
    "tags": []
   },
   "outputs": [],
   "source": [
    "config = {\n",
    "    \"fetchers\":[\n",
    "        {\n",
    "            \"type\": \"BQ_DATA_FETCHER\",\n",
    "            \"name\": \"count_requests\",\n",
    "            \"sql\": \"\"\"\n",
    "                SELECT event_date, source_system, os, sum(count) as requests \n",
    "                FROM your_project.your_dataset.metrics_requests\n",
    "                WHERE event_date = {execution_date}\n",
    "                GROUP BY 1, 2, 3\n",
    "            \"\"\",\n",
    "            \"intervals\": [\"1 DAY\"]\n",
    "        },\n",
    "        {\n",
    "            \"type\": \"BQ_DATA_FETCHER\",\n",
    "            \"name\": \"count_sessions\",\n",
    "            \"sql\": \"\"\"\n",
    "                SELECT PROCESSED_DATE, count(1) as sessions \n",
    "                FROM your_project.your_dataset.metrics_sessions\n",
    "                WHERE PROCESSED_DATE = {execution_date}\n",
    "                GROUP BY 1\n",
    "            \"\"\",\n",
    "            \"intervals\": [\"1 DAY\", \"1 WEEK\"]\n",
    "        }\n",
    "    ],\n",
    "    \"rules\": [\n",
    "        {\n",
    "            \"name\": \"known os types\",\n",
    "            \"type\": \"CROSS_SECTION\",\n",
    "            \"spec\": {\n",
    "                \"metric\": [\"count_requests.os\"],\n",
    "                \"function\": \"IN\",\n",
    "                \"list\": ['ios', 'other', 'amx', 'android']\n",
    "            },\n",
    "            \"fail_task\": True,\n",
    "        },\n",
    "        {\n",
    "            \"name\": \"request above\",\n",
    "            \"type\": \"CROSS_SECTION\",\n",
    "            \"spec\": {\n",
    "                \"metric\": [\"count_requests.requests\", 0],\n",
    "                \"function\": \"GREATER_THAN\", # abs(METRIC_X - METRIC_Y) / METRIC_X > 0.2\n",
    "                \"threshold\": 0.2\n",
    "            },\n",
    "            \"fail_task\": True,\n",
    "        },\n",
    "        {\n",
    "            \"name\": \"request above oposite\",\n",
    "            \"type\": \"CROSS_SECTION\",\n",
    "            \"spec\": {\n",
    "                \"metric\": [100, \"count_requests.requests\"],\n",
    "                \"function\": \"GREATER_THAN\", # abs(METRIC_X - METRIC_Y) / METRIC_X > 0.2\n",
    "                \"threshold\": 0.2\n",
    "            },\n",
    "            \"fail_task\": True,\n",
    "        },\n",
    "        {\n",
    "            \"name\": \"request above threshold\",\n",
    "            \"type\": \"CROSS_SECTION\",\n",
    "            \"spec\": {\n",
    "                \"metric\": [\"count_requests.requests\", 100],\n",
    "                \"function\": \"RELATIVE_GREATER_THAN\", # abs(METRIC_X - METRIC_Y) / METRIC_X > 0.2\n",
    "                \"threshold\": 0.2\n",
    "            },\n",
    "            \"fail_task\": True,\n",
    "        },\n",
    "        {\n",
    "            \"name\": \"request above threshold oposite\",\n",
    "            \"type\": \"CROSS_SECTION\",\n",
    "            \"spec\": {\n",
    "                \"metric\": [100, \"count_requests.requests\"],\n",
    "                \"function\": \"RELATIVE_GREATER_THAN\", # abs(METRIC_X - METRIC_Y) / METRIC_X > 0.2\n",
    "                \"threshold\": 0.2\n",
    "            },\n",
    "            \"fail_task\": True,\n",
    "        },\n",
    "        {\n",
    "            \"name\": \"request above THRESHOLD\",\n",
    "            \"type\": \"TIME_SERIES\",\n",
    "            \"spec\": {\n",
    "                \"metric\": \"count_sessions.sessions\",\n",
    "                \"threshold\": 0.2,\n",
    "                \"function\": \"RELATIVE_GREATER_THAN\" #greater than\n",
    "            }\n",
    "        },\n",
    "        {\n",
    "            \"name\": \"request above threshold 121212\",\n",
    "            \"type\": \"TIME_SERIES\", \n",
    "            \"spec\": {\n",
    "                \"metric\": \"count_requests.requests\",\n",
    "                \"function\": \"RELATIVE_GREATER_THAN\", #relative greater than\n",
    "                \"threshold\": 0.20,\n",
    "                \"dimensions\": ['source_system', 'os']\n",
    "            },\n",
    "            \"fail_task\": True,\n",
    "        }\n",
    "    ],\n",
    "    \"actions\":[\n",
    "        {\n",
    "            \"type\": \"PRINT\",\n",
    "            \"address\":['your_email@gmail.com'],\n",
    "            \"always_send\": True\n",
    "        }\n",
    "    ]\n",
    "}"
   ]
  },
  {
   "cell_type": "code",
   "execution_count": null,
   "id": "e83d7693-bf6e-45e3-b57d-42fc346ef265",
   "metadata": {},
   "outputs": [],
   "source": [
    "monitor = Monitor(config, 'gcp-project', {'execution_date':\"'2022-05-01'\", 'task_id':'metrics canary'})"
   ]
  },
  {
   "cell_type": "code",
   "execution_count": null,
   "id": "b64a19d0-1cf2-44ad-9798-eb777f653780",
   "metadata": {},
   "outputs": [],
   "source": [
    "fetcher_map = monitor.run()"
   ]
  },
  {
   "cell_type": "markdown",
   "id": "a349d6b8-5cac-4af8-b43e-2f7e1740fea4",
   "metadata": {},
   "source": [
    "### Config file example"
   ]
  },
  {
   "cell_type": "code",
   "execution_count": null,
   "id": "b2187976-b39a-4f3d-b366-d8a3baca45e0",
   "metadata": {},
   "outputs": [],
   "source": [
    "monitor = Monitor('/home/jovyan/repos/signal/sample/checker_config.json', 'gcp-project-id', {'execution_date':\"'2022-05-01'\", 'task_id':'metrics canary'})"
   ]
  },
  {
   "cell_type": "code",
   "execution_count": null,
   "id": "8c4ad074-f51b-47dd-aefb-aac2fe106bdc",
   "metadata": {},
   "outputs": [],
   "source": [
    "fetcher_map = monitor.run()"
   ]
  }
 ],
 "metadata": {
  "kernelspec": {
   "display_name": "Python 3 (ipykernel)",
   "language": "python",
   "name": "python3"
  },
  "language_info": {
   "codemirror_mode": {
    "name": "ipython",
    "version": 3
   },
   "file_extension": ".py",
   "mimetype": "text/x-python",
   "name": "python",
   "nbconvert_exporter": "python",
   "pygments_lexer": "ipython3",
   "version": "3.9.7"
  }
 },
 "nbformat": 4,
 "nbformat_minor": 5
}
